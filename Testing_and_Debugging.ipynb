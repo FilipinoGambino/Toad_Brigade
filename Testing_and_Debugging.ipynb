{
 "cells": [
  {
   "cell_type": "code",
   "execution_count": 8,
   "id": "fd02c5c6-d33e-48b6-bfba-0455e32aee27",
   "metadata": {},
   "outputs": [
    {
     "data": {
      "text/plain": [
       "{'cart': (4, 2, 32, 32, 1),\n",
       " 'city_tile': (1, 2, 32, 32, 1),\n",
       " 'worker': (4, 2, 32, 32, 1)}"
      ]
     },
     "execution_count": 8,
     "metadata": {},
     "output_type": "execute_result"
    }
   ],
   "source": [
    "import gym\n",
    "import numpy as np\n",
    "import torch\n",
    "\n",
    "p = 2\n",
    "x = 32\n",
    "y = 32\n",
    "\n",
    "action_space = gym.spaces.Dict({\n",
    "    \"worker\": gym.spaces.MultiDiscrete(np.zeros((4, p, x, y), dtype=int) + 8),\n",
    "    \"cart\": gym.spaces.MultiDiscrete(np.zeros((4, p, x, y), dtype=int) + 4),\n",
    "    \"city_tile\": gym.spaces.MultiDiscrete(np.zeros((1, p, x, y), dtype=int) + 2),\n",
    "})\n",
    "\n",
    "{\n",
    "    key: (*space.shape, 1) for key, space in action_space.spaces.items()\n",
    "}"
   ]
  },
  {
   "cell_type": "code",
   "execution_count": 1,
   "id": "0fbe8d23-bdff-49f0-838f-825bbf7c3469",
   "metadata": {},
   "outputs": [
    {
     "name": "stdout",
     "output_type": "stream",
     "text": [
      "Loading environment football failed: No module named 'gfootball'\n"
     ]
    }
   ],
   "source": [
    "import atexit\n",
    "import gym\n",
    "import json\n",
    "from kaggle_environments import make\n",
    "import math\n",
    "import numpy as np\n",
    "from pathlib import Path\n",
    "import random\n",
    "from scipy.stats import rankdata\n",
    "from subprocess import Popen, PIPE\n",
    "from typing import *\n",
    "\n",
    "from lux_ai.lux.game import Game\n",
    "from lux_ai.lux_gym.lux_env import LuxEnv\n",
    "from lux_ai.lux_gym.obs_spaces import ObsSpace\n",
    "\n",
    "DIR_PATH = Path(\"/home/isaiah/GitHub/Kaggle/Lux_AI_2021/lux_ai/\")\n",
    "dimension_process = Popen(\n",
    "    [\"node\", str(DIR_PATH / \"dimensions/main.js\")],\n",
    "    stdin=PIPE,\n",
    "    stdout=PIPE\n",
    ")\n",
    "\n",
    "env = make(\"lux_ai_2021\")\n",
    "env.reset()\n",
    "\n",
    "initiate = {\n",
    "    \"type\": \"start\",\n",
    "    \"agent_names\": [], # unsure if this is provided?\n",
    "    \"config\": env.configuration\n",
    "}\n",
    "dimension_process.stdin.write((json.dumps(initiate) + \"\\n\").encode())\n",
    "dimension_process.stdin.flush()\n",
    "\n",
    "agent1res = json.loads(dimension_process.stdout.readline())\n",
    "agent2res = json.loads(dimension_process.stdout.readline())\n",
    "\n",
    "game_state = Game()\n",
    "game_state._initialize(agent1res)\n",
    "game_state._update(agent1res)"
   ]
  },
  {
   "cell_type": "code",
   "execution_count": 7,
   "id": "9f4df301-1632-4086-83ec-634c7aa1e740",
   "metadata": {},
   "outputs": [
    {
     "data": {
      "text/plain": [
       "OrderedDict([('cart', MultiBinary((1, 2, 32, 32))),\n",
       "             ('cart_COUNT', Box(0.0, inf, (1, 2, 32, 32), float32)),\n",
       "             ('cart_cargo', Box(0.0, 1.0, (3, 2, 32, 32), float32)),\n",
       "             ('cart_cooldown', Box(0.0, 1.0, (1, 2, 32, 32), float32)),\n",
       "             ('city_tile', MultiBinary((1, 2, 32, 32))),\n",
       "             ('city_tile_cooldown', Box(0.0, 1.0, (1, 2, 32, 32), float32)),\n",
       "             ('city_tile_cost', Box(0.0, 1.0, (1, 2, 32, 32), float32)),\n",
       "             ('city_tile_fuel', Box(0.0, 1.0, (1, 2, 32, 32), float32)),\n",
       "             ('night', MultiBinary((1, 1))),\n",
       "             ('research_points', Box(0.0, 1.0, (1, 2), float32)),\n",
       "             ('researched_coal', MultiBinary((1, 2))),\n",
       "             ('researched_uranium', MultiBinary((1, 2))),\n",
       "             ('resources', Box(0.0, 1.0, (3, 1, 32, 32), float32)),\n",
       "             ('road_level', Box(0.0, 1.0, (1, 1, 32, 32), float32)),\n",
       "             ('turn', Box(0.0, 1.0, (1, 1), float32)),\n",
       "             ('worker', MultiBinary((1, 2, 32, 32))),\n",
       "             ('worker_COUNT', Box(0.0, inf, (1, 2, 32, 32), float32)),\n",
       "             ('worker_cargo', Box(0.0, 1.0, (3, 2, 32, 32), float32)),\n",
       "             ('worker_cooldown', Box(0.0, 1.0, (1, 2, 32, 32), float32))])"
      ]
     },
     "metadata": {},
     "output_type": "display_data"
    },
    {
     "data": {
      "text/plain": [
       "dtype('int8')"
      ]
     },
     "execution_count": 7,
     "metadata": {},
     "output_type": "execute_result"
    }
   ],
   "source": [
    "spaces = ObsSpace.FIXED_SHAPE_CONTINUOUS_OBS.get_obs_spec().spaces\n",
    "display(spaces)\n",
    "spaces[\"cart\"].dtype"
   ]
  },
  {
   "cell_type": "code",
   "execution_count": 14,
   "id": "2f975990-ec98-4a47-9803-6f3da25598ea",
   "metadata": {},
   "outputs": [
    {
     "ename": "TypeError",
     "evalue": "__init__() got an unexpected keyword argument 'dtype'",
     "output_type": "error",
     "traceback": [
      "\u001b[0;31m---------------------------------------------------------------------------\u001b[0m",
      "\u001b[0;31mTypeError\u001b[0m                                 Traceback (most recent call last)",
      "\u001b[0;32m<ipython-input-14-1cdd612fc44d>\u001b[0m in \u001b[0;36m<module>\u001b[0;34m\u001b[0m\n\u001b[0;32m----> 1\u001b[0;31m \u001b[0mgym\u001b[0m\u001b[0;34m.\u001b[0m\u001b[0mspaces\u001b[0m\u001b[0;34m.\u001b[0m\u001b[0mMultiBinary\u001b[0m\u001b[0;34m(\u001b[0m\u001b[0;34m[\u001b[0m\u001b[0;36m10\u001b[0m\u001b[0;34m]\u001b[0m\u001b[0;34m,\u001b[0m \u001b[0mdtype\u001b[0m\u001b[0;34m=\u001b[0m\u001b[0mnp\u001b[0m\u001b[0;34m.\u001b[0m\u001b[0mint64\u001b[0m\u001b[0;34m)\u001b[0m\u001b[0;34m.\u001b[0m\u001b[0mdtype\u001b[0m\u001b[0;34m\u001b[0m\u001b[0;34m\u001b[0m\u001b[0m\n\u001b[0m",
      "\u001b[0;31mTypeError\u001b[0m: __init__() got an unexpected keyword argument 'dtype'"
     ]
    }
   ],
   "source": [
    "gym.spaces.MultiBinary([10], dtype=np.int64).dtype"
   ]
  },
  {
   "cell_type": "code",
   "execution_count": 29,
   "id": "57cb6af6-5ec9-44f8-af52-84abfd39d260",
   "metadata": {},
   "outputs": [
    {
     "data": {
      "text/plain": [
       "(32, 12, dict_keys(['actions_taken', 'available_actions_mask']))"
      ]
     },
     "execution_count": 29,
     "metadata": {},
     "output_type": "execute_result"
    }
   ],
   "source": [
    "env.game_state.map.height, env.game_state.map.width, env.info.keys()"
   ]
  },
  {
   "cell_type": "code",
   "execution_count": 31,
   "id": "729c015b-cf2d-4279-8909-147a97e6db9f",
   "metadata": {},
   "outputs": [
    {
     "data": {
      "text/plain": [
       "Position: (2, 14)"
      ]
     },
     "execution_count": 31,
     "metadata": {},
     "output_type": "execute_result"
    }
   ],
   "source": [
    "env.game_state.players[0].units[0].pos"
   ]
  },
  {
   "cell_type": "code",
   "execution_count": 27,
   "id": "efe64a0c-b1f2-4a80-b060-405b06f9920a",
   "metadata": {},
   "outputs": [
    {
     "name": "stdout",
     "output_type": "stream",
     "text": [
      "1: DAY\n",
      "2: DAY\n",
      "3: DAY\n",
      "4: DAY\n",
      "5: DAY\n",
      "6: DAY\n",
      "7: DAY\n",
      "8: DAY\n",
      "9: DAY\n",
      "10: DAY\n",
      "11: DAY\n",
      "12: DAY\n",
      "13: DAY\n",
      "14: DAY\n",
      "15: DAY\n",
      "16: DAY\n",
      "17: DAY\n",
      "18: DAY\n",
      "19: DAY\n",
      "20: DAY\n",
      "21: DAY\n",
      "22: DAY\n",
      "23: DAY\n",
      "24: DAY\n",
      "25: DAY\n",
      "26: DAY\n",
      "27: DAY\n",
      "28: DAY\n",
      "29: DAY\n",
      "30: DAY\n",
      "31: NIGHT\n",
      "32: NIGHT\n",
      "33: NIGHT\n",
      "34: NIGHT\n",
      "35: NIGHT\n",
      "36: NIGHT\n",
      "37: NIGHT\n",
      "38: NIGHT\n",
      "39: NIGHT\n",
      "40: NIGHT\n",
      "41: DAY\n",
      "42: DAY\n",
      "43: DAY\n",
      "44: DAY\n",
      "45: DAY\n",
      "46: DAY\n",
      "47: DAY\n",
      "48: DAY\n",
      "49: DAY\n",
      "50: DAY\n",
      "51: DAY\n",
      "52: DAY\n",
      "53: DAY\n",
      "54: DAY\n",
      "55: DAY\n",
      "56: DAY\n",
      "57: DAY\n",
      "58: DAY\n",
      "59: DAY\n",
      "60: DAY\n",
      "61: DAY\n",
      "62: DAY\n",
      "63: DAY\n",
      "64: DAY\n",
      "65: DAY\n",
      "66: DAY\n",
      "67: DAY\n",
      "68: DAY\n",
      "69: DAY\n",
      "70: DAY\n",
      "71: NIGHT\n",
      "72: NIGHT\n",
      "73: NIGHT\n",
      "74: NIGHT\n",
      "75: NIGHT\n",
      "76: NIGHT\n",
      "77: NIGHT\n",
      "78: NIGHT\n",
      "79: NIGHT\n",
      "80: NIGHT\n",
      "81: DAY\n",
      "82: DAY\n",
      "83: DAY\n",
      "84: DAY\n",
      "85: DAY\n",
      "86: DAY\n",
      "87: DAY\n",
      "88: DAY\n",
      "89: DAY\n",
      "90: DAY\n",
      "91: DAY\n",
      "92: DAY\n",
      "93: DAY\n",
      "94: DAY\n",
      "95: DAY\n",
      "96: DAY\n",
      "97: DAY\n",
      "98: DAY\n",
      "99: DAY\n",
      "100: DAY\n",
      "101: DAY\n",
      "102: DAY\n",
      "103: DAY\n",
      "104: DAY\n",
      "105: DAY\n",
      "106: DAY\n",
      "107: DAY\n",
      "108: DAY\n",
      "109: DAY\n",
      "110: DAY\n",
      "111: NIGHT\n",
      "112: NIGHT\n",
      "113: NIGHT\n",
      "114: NIGHT\n",
      "115: NIGHT\n",
      "116: NIGHT\n",
      "117: NIGHT\n",
      "118: NIGHT\n",
      "119: NIGHT\n",
      "120: NIGHT\n",
      "121: DAY\n",
      "122: DAY\n",
      "123: DAY\n",
      "124: DAY\n",
      "125: DAY\n",
      "126: DAY\n",
      "127: DAY\n",
      "128: DAY\n",
      "129: DAY\n",
      "130: DAY\n",
      "131: DAY\n",
      "132: DAY\n",
      "133: DAY\n",
      "134: DAY\n",
      "135: DAY\n",
      "136: DAY\n",
      "137: DAY\n",
      "138: DAY\n",
      "139: DAY\n",
      "140: DAY\n",
      "141: DAY\n",
      "142: DAY\n",
      "143: DAY\n",
      "144: DAY\n",
      "145: DAY\n",
      "146: DAY\n",
      "147: DAY\n",
      "148: DAY\n",
      "149: DAY\n",
      "150: DAY\n",
      "151: NIGHT\n",
      "152: NIGHT\n",
      "153: NIGHT\n",
      "154: NIGHT\n",
      "155: NIGHT\n",
      "156: NIGHT\n",
      "157: NIGHT\n",
      "158: NIGHT\n",
      "159: NIGHT\n",
      "160: NIGHT\n",
      "161: DAY\n",
      "162: DAY\n",
      "163: DAY\n",
      "164: DAY\n",
      "165: DAY\n",
      "166: DAY\n",
      "167: DAY\n",
      "168: DAY\n",
      "169: DAY\n",
      "170: DAY\n",
      "171: DAY\n",
      "172: DAY\n",
      "173: DAY\n",
      "174: DAY\n",
      "175: DAY\n",
      "176: DAY\n",
      "177: DAY\n",
      "178: DAY\n",
      "179: DAY\n",
      "180: DAY\n",
      "181: DAY\n",
      "182: DAY\n",
      "183: DAY\n",
      "184: DAY\n",
      "185: DAY\n",
      "186: DAY\n",
      "187: DAY\n",
      "188: DAY\n",
      "189: DAY\n",
      "190: DAY\n",
      "191: NIGHT\n",
      "192: NIGHT\n",
      "193: NIGHT\n",
      "194: NIGHT\n",
      "195: NIGHT\n",
      "196: NIGHT\n",
      "197: NIGHT\n",
      "198: NIGHT\n",
      "199: NIGHT\n",
      "200: NIGHT\n",
      "201: DAY\n",
      "202: DAY\n",
      "203: DAY\n",
      "204: DAY\n",
      "205: DAY\n",
      "206: DAY\n",
      "207: DAY\n",
      "208: DAY\n",
      "209: DAY\n",
      "210: DAY\n",
      "211: DAY\n",
      "212: DAY\n",
      "213: DAY\n",
      "214: DAY\n",
      "215: DAY\n",
      "216: DAY\n",
      "217: DAY\n",
      "218: DAY\n",
      "219: DAY\n",
      "220: DAY\n",
      "221: DAY\n",
      "222: DAY\n",
      "223: DAY\n",
      "224: DAY\n",
      "225: DAY\n",
      "226: DAY\n",
      "227: DAY\n",
      "228: DAY\n",
      "229: DAY\n",
      "230: DAY\n",
      "231: NIGHT\n",
      "232: NIGHT\n",
      "233: NIGHT\n",
      "234: NIGHT\n",
      "235: NIGHT\n",
      "236: NIGHT\n",
      "237: NIGHT\n",
      "238: NIGHT\n",
      "239: NIGHT\n",
      "240: NIGHT\n",
      "241: DAY\n",
      "242: DAY\n",
      "243: DAY\n",
      "244: DAY\n",
      "245: DAY\n",
      "246: DAY\n",
      "247: DAY\n",
      "248: DAY\n",
      "249: DAY\n",
      "250: DAY\n",
      "251: DAY\n",
      "252: DAY\n",
      "253: DAY\n",
      "254: DAY\n",
      "255: DAY\n",
      "256: DAY\n",
      "257: DAY\n",
      "258: DAY\n",
      "259: DAY\n",
      "260: DAY\n",
      "261: DAY\n",
      "262: DAY\n",
      "263: DAY\n",
      "264: DAY\n",
      "265: DAY\n",
      "266: DAY\n",
      "267: DAY\n",
      "268: DAY\n",
      "269: DAY\n",
      "270: DAY\n",
      "271: NIGHT\n",
      "272: NIGHT\n",
      "273: NIGHT\n",
      "274: NIGHT\n",
      "275: NIGHT\n",
      "276: NIGHT\n",
      "277: NIGHT\n",
      "278: NIGHT\n",
      "279: NIGHT\n",
      "280: NIGHT\n",
      "281: DAY\n",
      "282: DAY\n",
      "283: DAY\n",
      "284: DAY\n",
      "285: DAY\n",
      "286: DAY\n",
      "287: DAY\n",
      "288: DAY\n",
      "289: DAY\n",
      "290: DAY\n",
      "291: DAY\n",
      "292: DAY\n",
      "293: DAY\n",
      "294: DAY\n",
      "295: DAY\n",
      "296: DAY\n",
      "297: DAY\n",
      "298: DAY\n",
      "299: DAY\n",
      "300: DAY\n",
      "301: DAY\n",
      "302: DAY\n",
      "303: DAY\n",
      "304: DAY\n",
      "305: DAY\n",
      "306: DAY\n",
      "307: DAY\n",
      "308: DAY\n",
      "309: DAY\n",
      "310: DAY\n",
      "311: NIGHT\n",
      "312: NIGHT\n",
      "313: NIGHT\n",
      "314: NIGHT\n",
      "315: NIGHT\n",
      "316: NIGHT\n",
      "317: NIGHT\n",
      "318: NIGHT\n",
      "319: NIGHT\n",
      "320: NIGHT\n",
      "321: DAY\n",
      "322: DAY\n",
      "323: DAY\n",
      "324: DAY\n",
      "325: DAY\n",
      "326: DAY\n",
      "327: DAY\n",
      "328: DAY\n",
      "329: DAY\n",
      "330: DAY\n",
      "331: DAY\n",
      "332: DAY\n",
      "333: DAY\n",
      "334: DAY\n",
      "335: DAY\n",
      "336: DAY\n",
      "337: DAY\n",
      "338: DAY\n",
      "339: DAY\n",
      "340: DAY\n",
      "341: DAY\n",
      "342: DAY\n",
      "343: DAY\n",
      "344: DAY\n",
      "345: DAY\n",
      "346: DAY\n",
      "347: DAY\n",
      "348: DAY\n",
      "349: DAY\n",
      "350: DAY\n",
      "351: NIGHT\n",
      "352: NIGHT\n",
      "353: NIGHT\n",
      "354: NIGHT\n",
      "355: NIGHT\n",
      "356: NIGHT\n",
      "357: NIGHT\n",
      "358: NIGHT\n",
      "359: NIGHT\n",
      "360: NIGHT\n"
     ]
    }
   ],
   "source": [
    "for i in range(1, 361):\n",
    "    if (i - 1) % 40 >= 30:\n",
    "        time = \"NIGHT\"\n",
    "    else:\n",
    "        time = \"DAY\"\n",
    "    print(f\"{i}: {time}\")"
   ]
  },
  {
   "cell_type": "code",
   "execution_count": 11,
   "id": "38cebe08-5418-4e1a-bede-eef523b48b3d",
   "metadata": {},
   "outputs": [
    {
     "data": {
      "text/plain": [
       "False"
      ]
     },
     "execution_count": 11,
     "metadata": {},
     "output_type": "execute_result"
    }
   ],
   "source": [
    "cell = game_state.map.get_cell_by_pos(game_state.players[0].cities['c_1'].citytiles[0].pos)\n",
    "cell.has_resource():"
   ]
  },
  {
   "cell_type": "code",
   "execution_count": 132,
   "id": "8e68b43e-148c-417b-9115-6f0e0d94e54d",
   "metadata": {},
   "outputs": [],
   "source": [
    "import itertools\n",
    "\n",
    "for cell in itertools.chain(*game_state.map.map):\n",
    "    pass"
   ]
  },
  {
   "cell_type": "code",
   "execution_count": 135,
   "id": "94c4e0c4-35a7-46ac-9b84-481f3a4df532",
   "metadata": {},
   "outputs": [
    {
     "data": {
      "text/plain": [
       "0"
      ]
     },
     "execution_count": 135,
     "metadata": {},
     "output_type": "execute_result"
    }
   ],
   "source": [
    "cell.road"
   ]
  },
  {
   "cell_type": "code",
   "execution_count": 107,
   "id": "904e2f78-c61b-4af0-b23a-fb19a8c6f8e0",
   "metadata": {},
   "outputs": [
    {
     "data": {
      "text/plain": [
       "0"
      ]
     },
     "execution_count": 107,
     "metadata": {},
     "output_type": "execute_result"
    }
   ],
   "source": [
    "player = game_state.players[0]\n",
    "unit = player.units[0]\n",
    "unit.cargo.coal"
   ]
  },
  {
   "cell_type": "code",
   "execution_count": 39,
   "id": "fa6e6fcc-2c41-4663-9515-06c8f3b9986c",
   "metadata": {},
   "outputs": [],
   "source": [
    "env.reset()\n",
    "while not env.done:\n",
    "    if (env.game_state.turn // 2) % 2 == 0:\n",
    "        move = 'n'\n",
    "    else:\n",
    "        move = 's'\n",
    "    # print(move)\n",
    "    if len(env.game_state.players[0].units) > 0:\n",
    "        actions = [[env.game_state.players[0].units[0].move(move)], []]\n",
    "    else:\n",
    "        actions = [[], []]\n",
    "    returned = env.step(actions)"
   ]
  },
  {
   "cell_type": "code",
   "execution_count": 40,
   "id": "f7773954-4764-43f4-a4fe-235fca04aadc",
   "metadata": {},
   "outputs": [
    {
     "data": {
      "text/plain": [
       "({}, [], (<lux_ai.lux.game.Game at 0x7f399f349640>, [0.0, 0.0], True, {}))"
      ]
     },
     "execution_count": 40,
     "metadata": {},
     "output_type": "execute_result"
    }
   ],
   "source": [
    "env.game_state.players[1].cities, env.game_state.players[0].units, returned"
   ]
  },
  {
   "cell_type": "code",
   "execution_count": 25,
   "id": "f3d91bd8-be58-4920-9f41-9c5aa08b44f8",
   "metadata": {},
   "outputs": [
    {
     "name": "stdout",
     "output_type": "stream",
     "text": [
      "[{'action': ['m u_1 n', 'r 5 7']}, {'action': ['m u_2 n', 'r 10 7']}, {'action': ['m u_1 n', 'r 5 7']}, {'action': ['m u_2 n', 'r 10 7']}]\n"
     ]
    }
   ],
   "source": [
    "state = [{\n",
    "    'action': [p.units[0].move('n'), list(p.cities.values())[0].citytiles[0].research()],\n",
    "    #'reward': 0,\n",
    "    #'info': {},\n",
    "    #'observation': {},\n",
    "    #'status': {}\n",
    "} for p in game_state.players] * 2\n",
    "print(state)\n",
    "dimension_process.stdin.write((json.dumps(state) + \"\\n\").encode())\n",
    "dimension_process.stdin.flush()"
   ]
  },
  {
   "cell_type": "code",
   "execution_count": 24,
   "id": "ee5f7609-c98c-4140-bc94-090b2d3e41f7",
   "metadata": {},
   "outputs": [
    {
     "data": {
      "text/plain": [
       "[]"
      ]
     },
     "execution_count": 24,
     "metadata": {},
     "output_type": "execute_result"
    }
   ],
   "source": [
    "[l for l in json.loads(dimension_process.stdout.readline()) if l.startswith('u') or l.startswith('rp')]"
   ]
  },
  {
   "cell_type": "code",
   "execution_count": 28,
   "id": "593ee383-6cd0-4440-bacb-a968f378041c",
   "metadata": {
    "tags": []
   },
   "outputs": [
    {
     "data": {
      "text/plain": [
       "{'status': 'running', 'turn': 1, 'max': 361}"
      ]
     },
     "execution_count": 28,
     "metadata": {},
     "output_type": "execute_result"
    }
   ],
   "source": [
    "json.loads(dimension_process.stdout.readline())"
   ]
  },
  {
   "cell_type": "code",
   "execution_count": 9,
   "id": "79012c43-286a-4a2c-95b8-7aab032339d7",
   "metadata": {},
   "outputs": [
    {
     "data": {
      "text/plain": [
       "'m u_1 NORTH'"
      ]
     },
     "execution_count": 9,
     "metadata": {},
     "output_type": "execute_result"
    }
   ],
   "source": []
  },
  {
   "cell_type": "code",
   "execution_count": 43,
   "id": "c6910ce9-ca97-4984-9668-53f2ad9d62a8",
   "metadata": {},
   "outputs": [
    {
     "data": {
      "text/plain": [
       "2856"
      ]
     },
     "execution_count": 43,
     "metadata": {},
     "output_type": "execute_result"
    }
   ],
   "source": [
    "dimension_process.stdin.write((json.dumps(env.state) + \"\\n\").encode())"
   ]
  },
  {
   "cell_type": "code",
   "execution_count": 51,
   "id": "5bf4ff75-2034-4423-b923-da588032a6ea",
   "metadata": {},
   "outputs": [
    {
     "data": {
      "text/plain": [
       "b'[\"rp 0 0\",\"rp 1 0\",\"r uranium 0 2 270\",\"r coal 0 4 336\",\"r coal 1 3 426\",\"r coal 1 4 369\",\"r coal 2 11 312\",\"r wood 3 2 867\",\"r wood 3 5 1164\",\"r wood 4 0 869\",\"r wood 4 2 1180\",\"r wood 4 3 1204\",\"r wood 4 5 1077\",\"r wood 4 6 1026\",\"r uranium 5 11 252\",\"r coal 7 0 440\",\"r wood 7 5 850\",\"r wood 7 11 951\",\"r wood 8 5 770\",\"r wood 8 11 1122\",\"r wood 9 0 866\",\"r wood 9 1 1050\",\"r wood 9 5 850\",\"r wood 9 6 1221\",\"r wood 9 7 1030\",\"r wood 10 0 1260\",\"r wood 10 6 1140\",\"r wood 11 0 1261\",\"r coal 11 9 360\",\"r wood 11 10 1073\",\"r wood 12 0 1261\",\"r coal 12 9 360\",\"r wood 12 10 1073\",\"r wood 13 0 1260\",\"r wood 13 6 1140\",\"r wood 14 0 866\",\"r wood 14 1 1050\",\"r wood 14 5 850\",\"r wood 14 6 1221\",\"r wood 14 7 1030\",\"r wood 15 5 770\",\"r wood 15 11 1122\",\"r coal 16 0 440\",\"r wood 16 5 850\",\"r wood 16 11 951\",\"r uranium 18 11 252\",\"r wood 19 0 869\",\"r wood 19 2 1180\",\"r wood 19 3 1204\",\"r wood 19 5 1077\",\"r wood 19 6 1026\",\"r wood 20 2 867\",\"r wood 20 5 1164\",\"r coal 21 11 312\",\"r coal 22 3 426\",\"r coal 22 4 369\",\"r uranium 23 2 270\",\"r coal 23 4 336\",\"u 0 0 u_1 8 4 0 0 0 0\",\"u 0 1 u_2 15 4 0 0 0 0\",\"c 0 c_1 80 30\",\"c 1 c_2 80 30\",\"ct 0 c_1 8 4 0\",\"ct 1 c_2 15 4 0\",\"ccd 8 4 6\",\"ccd 15 4 6\",\"D_DONE\"]\\n'"
      ]
     },
     "execution_count": 51,
     "metadata": {},
     "output_type": "execute_result"
    }
   ],
   "source": [
    "dimension_process.stdout.readline()"
   ]
  },
  {
   "cell_type": "code",
   "execution_count": 18,
   "id": "2f55157b-d568-4648-85e9-52632536b13f",
   "metadata": {},
   "outputs": [],
   "source": [
    "game_state._update(agent1res)"
   ]
  },
  {
   "cell_type": "code",
   "execution_count": 41,
   "id": "43567fb4-77ca-46ab-a2dc-78e4aef22858",
   "metadata": {},
   "outputs": [
    {
     "data": {
      "text/plain": [
       "[{'action': ['f'],\n",
       "  'reward': 1001,\n",
       "  'info': {},\n",
       "  'observation': {'remainingOverageTime': 60,\n",
       "   'step': 3,\n",
       "   'reward': 1001,\n",
       "   'player': 0,\n",
       "   'updates': ['rp 0 0',\n",
       "    'rp 1 0',\n",
       "    'r uranium 0 2 270',\n",
       "    'r coal 0 4 336',\n",
       "    'r coal 1 3 426',\n",
       "    'r coal 1 4 369',\n",
       "    'r coal 2 11 312',\n",
       "    'r wood 3 2 867',\n",
       "    'r wood 3 5 1164',\n",
       "    'r wood 4 0 869',\n",
       "    'r wood 4 2 1180',\n",
       "    'r wood 4 3 1204',\n",
       "    'r wood 4 5 1077',\n",
       "    'r wood 4 6 1026',\n",
       "    'r uranium 5 11 252',\n",
       "    'r coal 7 0 440',\n",
       "    'r wood 7 5 850',\n",
       "    'r wood 7 11 951',\n",
       "    'r wood 8 5 790',\n",
       "    'r wood 8 11 1122',\n",
       "    'r wood 9 0 866',\n",
       "    'r wood 9 1 1050',\n",
       "    'r wood 9 5 850',\n",
       "    'r wood 9 6 1221',\n",
       "    'r wood 9 7 1030',\n",
       "    'r wood 10 0 1260',\n",
       "    'r wood 10 6 1140',\n",
       "    'r wood 11 0 1261',\n",
       "    'r coal 11 9 360',\n",
       "    'r wood 11 10 1073',\n",
       "    'r wood 12 0 1261',\n",
       "    'r coal 12 9 360',\n",
       "    'r wood 12 10 1073',\n",
       "    'r wood 13 0 1260',\n",
       "    'r wood 13 6 1140',\n",
       "    'r wood 14 0 866',\n",
       "    'r wood 14 1 1050',\n",
       "    'r wood 14 5 850',\n",
       "    'r wood 14 6 1221',\n",
       "    'r wood 14 7 1030',\n",
       "    'r wood 15 5 790',\n",
       "    'r wood 15 11 1122',\n",
       "    'r coal 16 0 440',\n",
       "    'r wood 16 5 850',\n",
       "    'r wood 16 11 951',\n",
       "    'r uranium 18 11 252',\n",
       "    'r wood 19 0 869',\n",
       "    'r wood 19 2 1180',\n",
       "    'r wood 19 3 1204',\n",
       "    'r wood 19 5 1077',\n",
       "    'r wood 19 6 1026',\n",
       "    'r wood 20 2 867',\n",
       "    'r wood 20 5 1164',\n",
       "    'r coal 21 11 312',\n",
       "    'r coal 22 3 426',\n",
       "    'r coal 22 4 369',\n",
       "    'r uranium 23 2 270',\n",
       "    'r coal 23 4 336',\n",
       "    'u 0 0 u_1 8 4 0 0 0 0',\n",
       "    'u 0 1 u_2 15 4 0 0 0 0',\n",
       "    'c 0 c_1 60 30',\n",
       "    'c 1 c_2 60 30',\n",
       "    'ct 0 c_1 8 4 0',\n",
       "    'ct 1 c_2 15 4 0',\n",
       "    'ccd 8 4 6',\n",
       "    'ccd 15 4 6',\n",
       "    'D_DONE']},\n",
       "  'status': 'ACTIVE'},\n",
       " {'action': ['f'],\n",
       "  'reward': 1001,\n",
       "  'info': {},\n",
       "  'observation': {'remainingOverageTime': 60,\n",
       "   'reward': 1001,\n",
       "   'player': 1,\n",
       "   'updates': ['rp 0 0',\n",
       "    'rp 1 0',\n",
       "    'r uranium 0 2 270',\n",
       "    'r coal 0 4 336',\n",
       "    'r coal 1 3 426',\n",
       "    'r coal 1 4 369',\n",
       "    'r coal 2 11 312',\n",
       "    'r wood 3 2 867',\n",
       "    'r wood 3 5 1164',\n",
       "    'r wood 4 0 869',\n",
       "    'r wood 4 2 1180',\n",
       "    'r wood 4 3 1204',\n",
       "    'r wood 4 5 1077',\n",
       "    'r wood 4 6 1026',\n",
       "    'r uranium 5 11 252',\n",
       "    'r coal 7 0 440',\n",
       "    'r wood 7 5 850',\n",
       "    'r wood 7 11 951',\n",
       "    'r wood 8 5 790',\n",
       "    'r wood 8 11 1122',\n",
       "    'r wood 9 0 866',\n",
       "    'r wood 9 1 1050',\n",
       "    'r wood 9 5 850',\n",
       "    'r wood 9 6 1221',\n",
       "    'r wood 9 7 1030',\n",
       "    'r wood 10 0 1260',\n",
       "    'r wood 10 6 1140',\n",
       "    'r wood 11 0 1261',\n",
       "    'r coal 11 9 360',\n",
       "    'r wood 11 10 1073',\n",
       "    'r wood 12 0 1261',\n",
       "    'r coal 12 9 360',\n",
       "    'r wood 12 10 1073',\n",
       "    'r wood 13 0 1260',\n",
       "    'r wood 13 6 1140',\n",
       "    'r wood 14 0 866',\n",
       "    'r wood 14 1 1050',\n",
       "    'r wood 14 5 850',\n",
       "    'r wood 14 6 1221',\n",
       "    'r wood 14 7 1030',\n",
       "    'r wood 15 5 790',\n",
       "    'r wood 15 11 1122',\n",
       "    'r coal 16 0 440',\n",
       "    'r wood 16 5 850',\n",
       "    'r wood 16 11 951',\n",
       "    'r uranium 18 11 252',\n",
       "    'r wood 19 0 869',\n",
       "    'r wood 19 2 1180',\n",
       "    'r wood 19 3 1204',\n",
       "    'r wood 19 5 1077',\n",
       "    'r wood 19 6 1026',\n",
       "    'r wood 20 2 867',\n",
       "    'r wood 20 5 1164',\n",
       "    'r coal 21 11 312',\n",
       "    'r coal 22 3 426',\n",
       "    'r coal 22 4 369',\n",
       "    'r uranium 23 2 270',\n",
       "    'r coal 23 4 336',\n",
       "    'u 0 0 u_1 8 4 0 0 0 0',\n",
       "    'u 0 1 u_2 15 4 0 0 0 0',\n",
       "    'c 0 c_1 60 30',\n",
       "    'c 1 c_2 60 30',\n",
       "    'ct 0 c_1 8 4 0',\n",
       "    'ct 1 c_2 15 4 0',\n",
       "    'ccd 8 4 6',\n",
       "    'ccd 15 4 6',\n",
       "    'D_DONE']},\n",
       "  'status': 'ACTIVE'}]"
      ]
     },
     "execution_count": 41,
     "metadata": {},
     "output_type": "execute_result"
    }
   ],
   "source": [
    "env.step([['f'], ['f']])"
   ]
  }
 ],
 "metadata": {
  "kernelspec": {
   "display_name": "Python 3",
   "language": "python",
   "name": "python3"
  },
  "language_info": {
   "codemirror_mode": {
    "name": "ipython",
    "version": 3
   },
   "file_extension": ".py",
   "mimetype": "text/x-python",
   "name": "python",
   "nbconvert_exporter": "python",
   "pygments_lexer": "ipython3",
   "version": "3.9.5"
  }
 },
 "nbformat": 4,
 "nbformat_minor": 5
}
