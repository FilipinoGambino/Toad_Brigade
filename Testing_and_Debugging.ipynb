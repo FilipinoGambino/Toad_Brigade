{
 "cells": [
  {
   "cell_type": "code",
   "execution_count": 1,
   "id": "0fbe8d23-bdff-49f0-838f-825bbf7c3469",
   "metadata": {},
   "outputs": [
    {
     "name": "stdout",
     "output_type": "stream",
     "text": [
      "Loading environment football failed: No module named 'gfootball'\n"
     ]
    }
   ],
   "source": [
    "import atexit\n",
    "import gym\n",
    "import json\n",
    "from kaggle_environments import make\n",
    "import math\n",
    "from pathlib import Path\n",
    "import random\n",
    "from scipy.stats import rankdata\n",
    "from subprocess import Popen, PIPE\n",
    "from typing import *\n",
    "\n",
    "from lux_ai.lux.game import Game\n",
    "from lux_ai.lux_env import LuxEnv\n",
    "\n",
    "DIR_PATH = Path(\"/home/isaiah/GitHub/Kaggle/Lux_AI_2021/lux_ai/\")\n",
    "dimension_process = Popen(\n",
    "    [\"node\", str(DIR_PATH / \"dimensions/main.js\")],\n",
    "    stdin=PIPE,\n",
    "    stdout=PIPE\n",
    ")\n",
    "\n",
    "env = make(\"lux_ai_2021\")\n",
    "env.reset()\n",
    "\n",
    "initiate = {\n",
    "    \"type\": \"start\",\n",
    "    \"agent_names\": [], # unsure if this is provided?\n",
    "    \"config\": env.configuration\n",
    "}\n",
    "dimension_process.stdin.write((json.dumps(initiate) + \"\\n\").encode())\n",
    "dimension_process.stdin.flush()\n",
    "\n",
    "agent1res = json.loads(dimension_process.stdout.readline())\n",
    "agent2res = json.loads(dimension_process.stdout.readline())\n",
    "\n",
    "game_state = Game()\n",
    "game_state._initialize(agent1res)\n",
    "game_state._update(agent1res)"
   ]
  },
  {
   "cell_type": "code",
   "execution_count": 2,
   "id": "d6f5934d-1a74-4a2a-912f-9ebfa57d67ec",
   "metadata": {},
   "outputs": [
    {
     "data": {
      "text/plain": [
       "(<lux_ai.lux.game.Game at 0x7f39e8317160>, [0.0, 0.0], False, {})"
      ]
     },
     "execution_count": 2,
     "metadata": {},
     "output_type": "execute_result"
    }
   ],
   "source": [
    "env = LuxEnv()\n",
    "env.reset()"
   ]
  },
  {
   "cell_type": "code",
   "execution_count": 22,
   "id": "904e2f78-c61b-4af0-b23a-fb19a8c6f8e0",
   "metadata": {},
   "outputs": [
    {
     "data": {
      "text/plain": [
       "{}"
      ]
     },
     "execution_count": 22,
     "metadata": {},
     "output_type": "execute_result"
    }
   ],
   "source": []
  },
  {
   "cell_type": "code",
   "execution_count": 39,
   "id": "fa6e6fcc-2c41-4663-9515-06c8f3b9986c",
   "metadata": {},
   "outputs": [],
   "source": [
    "env.reset()\n",
    "while not env.done:\n",
    "    if (env.game_state.turn // 2) % 2 == 0:\n",
    "        move = 'n'\n",
    "    else:\n",
    "        move = 's'\n",
    "    # print(move)\n",
    "    if len(env.game_state.players[0].units) > 0:\n",
    "        actions = [[env.game_state.players[0].units[0].move(move)], []]\n",
    "    else:\n",
    "        actions = [[], []]\n",
    "    returned = env.step(actions)"
   ]
  },
  {
   "cell_type": "code",
   "execution_count": 40,
   "id": "f7773954-4764-43f4-a4fe-235fca04aadc",
   "metadata": {},
   "outputs": [
    {
     "data": {
      "text/plain": [
       "({}, [], (<lux_ai.lux.game.Game at 0x7f399f349640>, [0.0, 0.0], True, {}))"
      ]
     },
     "execution_count": 40,
     "metadata": {},
     "output_type": "execute_result"
    }
   ],
   "source": [
    "env.game_state.players[1].cities, env.game_state.players[0].units, returned"
   ]
  },
  {
   "cell_type": "code",
   "execution_count": 25,
   "id": "f3d91bd8-be58-4920-9f41-9c5aa08b44f8",
   "metadata": {},
   "outputs": [
    {
     "name": "stdout",
     "output_type": "stream",
     "text": [
      "[{'action': ['m u_1 n', 'r 5 7']}, {'action': ['m u_2 n', 'r 10 7']}, {'action': ['m u_1 n', 'r 5 7']}, {'action': ['m u_2 n', 'r 10 7']}]\n"
     ]
    }
   ],
   "source": [
    "state = [{\n",
    "    'action': [p.units[0].move('n'), list(p.cities.values())[0].citytiles[0].research()],\n",
    "    #'reward': 0,\n",
    "    #'info': {},\n",
    "    #'observation': {},\n",
    "    #'status': {}\n",
    "} for p in game_state.players] * 2\n",
    "print(state)\n",
    "dimension_process.stdin.write((json.dumps(state) + \"\\n\").encode())\n",
    "dimension_process.stdin.flush()"
   ]
  },
  {
   "cell_type": "code",
   "execution_count": 24,
   "id": "ee5f7609-c98c-4140-bc94-090b2d3e41f7",
   "metadata": {},
   "outputs": [
    {
     "data": {
      "text/plain": [
       "[]"
      ]
     },
     "execution_count": 24,
     "metadata": {},
     "output_type": "execute_result"
    }
   ],
   "source": [
    "[l for l in json.loads(dimension_process.stdout.readline()) if l.startswith('u') or l.startswith('rp')]"
   ]
  },
  {
   "cell_type": "code",
   "execution_count": 28,
   "id": "593ee383-6cd0-4440-bacb-a968f378041c",
   "metadata": {
    "tags": []
   },
   "outputs": [
    {
     "data": {
      "text/plain": [
       "{'status': 'running', 'turn': 1, 'max': 361}"
      ]
     },
     "execution_count": 28,
     "metadata": {},
     "output_type": "execute_result"
    }
   ],
   "source": [
    "json.loads(dimension_process.stdout.readline())"
   ]
  },
  {
   "cell_type": "code",
   "execution_count": 9,
   "id": "79012c43-286a-4a2c-95b8-7aab032339d7",
   "metadata": {},
   "outputs": [
    {
     "data": {
      "text/plain": [
       "'m u_1 NORTH'"
      ]
     },
     "execution_count": 9,
     "metadata": {},
     "output_type": "execute_result"
    }
   ],
   "source": []
  },
  {
   "cell_type": "code",
   "execution_count": 43,
   "id": "c6910ce9-ca97-4984-9668-53f2ad9d62a8",
   "metadata": {},
   "outputs": [
    {
     "data": {
      "text/plain": [
       "2856"
      ]
     },
     "execution_count": 43,
     "metadata": {},
     "output_type": "execute_result"
    }
   ],
   "source": [
    "dimension_process.stdin.write((json.dumps(env.state) + \"\\n\").encode())"
   ]
  },
  {
   "cell_type": "code",
   "execution_count": 51,
   "id": "5bf4ff75-2034-4423-b923-da588032a6ea",
   "metadata": {},
   "outputs": [
    {
     "data": {
      "text/plain": [
       "b'[\"rp 0 0\",\"rp 1 0\",\"r uranium 0 2 270\",\"r coal 0 4 336\",\"r coal 1 3 426\",\"r coal 1 4 369\",\"r coal 2 11 312\",\"r wood 3 2 867\",\"r wood 3 5 1164\",\"r wood 4 0 869\",\"r wood 4 2 1180\",\"r wood 4 3 1204\",\"r wood 4 5 1077\",\"r wood 4 6 1026\",\"r uranium 5 11 252\",\"r coal 7 0 440\",\"r wood 7 5 850\",\"r wood 7 11 951\",\"r wood 8 5 770\",\"r wood 8 11 1122\",\"r wood 9 0 866\",\"r wood 9 1 1050\",\"r wood 9 5 850\",\"r wood 9 6 1221\",\"r wood 9 7 1030\",\"r wood 10 0 1260\",\"r wood 10 6 1140\",\"r wood 11 0 1261\",\"r coal 11 9 360\",\"r wood 11 10 1073\",\"r wood 12 0 1261\",\"r coal 12 9 360\",\"r wood 12 10 1073\",\"r wood 13 0 1260\",\"r wood 13 6 1140\",\"r wood 14 0 866\",\"r wood 14 1 1050\",\"r wood 14 5 850\",\"r wood 14 6 1221\",\"r wood 14 7 1030\",\"r wood 15 5 770\",\"r wood 15 11 1122\",\"r coal 16 0 440\",\"r wood 16 5 850\",\"r wood 16 11 951\",\"r uranium 18 11 252\",\"r wood 19 0 869\",\"r wood 19 2 1180\",\"r wood 19 3 1204\",\"r wood 19 5 1077\",\"r wood 19 6 1026\",\"r wood 20 2 867\",\"r wood 20 5 1164\",\"r coal 21 11 312\",\"r coal 22 3 426\",\"r coal 22 4 369\",\"r uranium 23 2 270\",\"r coal 23 4 336\",\"u 0 0 u_1 8 4 0 0 0 0\",\"u 0 1 u_2 15 4 0 0 0 0\",\"c 0 c_1 80 30\",\"c 1 c_2 80 30\",\"ct 0 c_1 8 4 0\",\"ct 1 c_2 15 4 0\",\"ccd 8 4 6\",\"ccd 15 4 6\",\"D_DONE\"]\\n'"
      ]
     },
     "execution_count": 51,
     "metadata": {},
     "output_type": "execute_result"
    }
   ],
   "source": [
    "dimension_process.stdout.readline()"
   ]
  },
  {
   "cell_type": "code",
   "execution_count": 18,
   "id": "2f55157b-d568-4648-85e9-52632536b13f",
   "metadata": {},
   "outputs": [],
   "source": [
    "game_state._update(agent1res)"
   ]
  },
  {
   "cell_type": "code",
   "execution_count": 41,
   "id": "43567fb4-77ca-46ab-a2dc-78e4aef22858",
   "metadata": {},
   "outputs": [
    {
     "data": {
      "text/plain": [
       "[{'action': ['f'],\n",
       "  'reward': 1001,\n",
       "  'info': {},\n",
       "  'observation': {'remainingOverageTime': 60,\n",
       "   'step': 3,\n",
       "   'reward': 1001,\n",
       "   'player': 0,\n",
       "   'updates': ['rp 0 0',\n",
       "    'rp 1 0',\n",
       "    'r uranium 0 2 270',\n",
       "    'r coal 0 4 336',\n",
       "    'r coal 1 3 426',\n",
       "    'r coal 1 4 369',\n",
       "    'r coal 2 11 312',\n",
       "    'r wood 3 2 867',\n",
       "    'r wood 3 5 1164',\n",
       "    'r wood 4 0 869',\n",
       "    'r wood 4 2 1180',\n",
       "    'r wood 4 3 1204',\n",
       "    'r wood 4 5 1077',\n",
       "    'r wood 4 6 1026',\n",
       "    'r uranium 5 11 252',\n",
       "    'r coal 7 0 440',\n",
       "    'r wood 7 5 850',\n",
       "    'r wood 7 11 951',\n",
       "    'r wood 8 5 790',\n",
       "    'r wood 8 11 1122',\n",
       "    'r wood 9 0 866',\n",
       "    'r wood 9 1 1050',\n",
       "    'r wood 9 5 850',\n",
       "    'r wood 9 6 1221',\n",
       "    'r wood 9 7 1030',\n",
       "    'r wood 10 0 1260',\n",
       "    'r wood 10 6 1140',\n",
       "    'r wood 11 0 1261',\n",
       "    'r coal 11 9 360',\n",
       "    'r wood 11 10 1073',\n",
       "    'r wood 12 0 1261',\n",
       "    'r coal 12 9 360',\n",
       "    'r wood 12 10 1073',\n",
       "    'r wood 13 0 1260',\n",
       "    'r wood 13 6 1140',\n",
       "    'r wood 14 0 866',\n",
       "    'r wood 14 1 1050',\n",
       "    'r wood 14 5 850',\n",
       "    'r wood 14 6 1221',\n",
       "    'r wood 14 7 1030',\n",
       "    'r wood 15 5 790',\n",
       "    'r wood 15 11 1122',\n",
       "    'r coal 16 0 440',\n",
       "    'r wood 16 5 850',\n",
       "    'r wood 16 11 951',\n",
       "    'r uranium 18 11 252',\n",
       "    'r wood 19 0 869',\n",
       "    'r wood 19 2 1180',\n",
       "    'r wood 19 3 1204',\n",
       "    'r wood 19 5 1077',\n",
       "    'r wood 19 6 1026',\n",
       "    'r wood 20 2 867',\n",
       "    'r wood 20 5 1164',\n",
       "    'r coal 21 11 312',\n",
       "    'r coal 22 3 426',\n",
       "    'r coal 22 4 369',\n",
       "    'r uranium 23 2 270',\n",
       "    'r coal 23 4 336',\n",
       "    'u 0 0 u_1 8 4 0 0 0 0',\n",
       "    'u 0 1 u_2 15 4 0 0 0 0',\n",
       "    'c 0 c_1 60 30',\n",
       "    'c 1 c_2 60 30',\n",
       "    'ct 0 c_1 8 4 0',\n",
       "    'ct 1 c_2 15 4 0',\n",
       "    'ccd 8 4 6',\n",
       "    'ccd 15 4 6',\n",
       "    'D_DONE']},\n",
       "  'status': 'ACTIVE'},\n",
       " {'action': ['f'],\n",
       "  'reward': 1001,\n",
       "  'info': {},\n",
       "  'observation': {'remainingOverageTime': 60,\n",
       "   'reward': 1001,\n",
       "   'player': 1,\n",
       "   'updates': ['rp 0 0',\n",
       "    'rp 1 0',\n",
       "    'r uranium 0 2 270',\n",
       "    'r coal 0 4 336',\n",
       "    'r coal 1 3 426',\n",
       "    'r coal 1 4 369',\n",
       "    'r coal 2 11 312',\n",
       "    'r wood 3 2 867',\n",
       "    'r wood 3 5 1164',\n",
       "    'r wood 4 0 869',\n",
       "    'r wood 4 2 1180',\n",
       "    'r wood 4 3 1204',\n",
       "    'r wood 4 5 1077',\n",
       "    'r wood 4 6 1026',\n",
       "    'r uranium 5 11 252',\n",
       "    'r coal 7 0 440',\n",
       "    'r wood 7 5 850',\n",
       "    'r wood 7 11 951',\n",
       "    'r wood 8 5 790',\n",
       "    'r wood 8 11 1122',\n",
       "    'r wood 9 0 866',\n",
       "    'r wood 9 1 1050',\n",
       "    'r wood 9 5 850',\n",
       "    'r wood 9 6 1221',\n",
       "    'r wood 9 7 1030',\n",
       "    'r wood 10 0 1260',\n",
       "    'r wood 10 6 1140',\n",
       "    'r wood 11 0 1261',\n",
       "    'r coal 11 9 360',\n",
       "    'r wood 11 10 1073',\n",
       "    'r wood 12 0 1261',\n",
       "    'r coal 12 9 360',\n",
       "    'r wood 12 10 1073',\n",
       "    'r wood 13 0 1260',\n",
       "    'r wood 13 6 1140',\n",
       "    'r wood 14 0 866',\n",
       "    'r wood 14 1 1050',\n",
       "    'r wood 14 5 850',\n",
       "    'r wood 14 6 1221',\n",
       "    'r wood 14 7 1030',\n",
       "    'r wood 15 5 790',\n",
       "    'r wood 15 11 1122',\n",
       "    'r coal 16 0 440',\n",
       "    'r wood 16 5 850',\n",
       "    'r wood 16 11 951',\n",
       "    'r uranium 18 11 252',\n",
       "    'r wood 19 0 869',\n",
       "    'r wood 19 2 1180',\n",
       "    'r wood 19 3 1204',\n",
       "    'r wood 19 5 1077',\n",
       "    'r wood 19 6 1026',\n",
       "    'r wood 20 2 867',\n",
       "    'r wood 20 5 1164',\n",
       "    'r coal 21 11 312',\n",
       "    'r coal 22 3 426',\n",
       "    'r coal 22 4 369',\n",
       "    'r uranium 23 2 270',\n",
       "    'r coal 23 4 336',\n",
       "    'u 0 0 u_1 8 4 0 0 0 0',\n",
       "    'u 0 1 u_2 15 4 0 0 0 0',\n",
       "    'c 0 c_1 60 30',\n",
       "    'c 1 c_2 60 30',\n",
       "    'ct 0 c_1 8 4 0',\n",
       "    'ct 1 c_2 15 4 0',\n",
       "    'ccd 8 4 6',\n",
       "    'ccd 15 4 6',\n",
       "    'D_DONE']},\n",
       "  'status': 'ACTIVE'}]"
      ]
     },
     "execution_count": 41,
     "metadata": {},
     "output_type": "execute_result"
    }
   ],
   "source": [
    "env.step([['f'], ['f']])"
   ]
  }
 ],
 "metadata": {
  "kernelspec": {
   "display_name": "Python 3 (ipykernel)",
   "language": "python",
   "name": "python3"
  },
  "language_info": {
   "codemirror_mode": {
    "name": "ipython",
    "version": 3
   },
   "file_extension": ".py",
   "mimetype": "text/x-python",
   "name": "python",
   "nbconvert_exporter": "python",
   "pygments_lexer": "ipython3",
   "version": "3.9.5"
  }
 },
 "nbformat": 4,
 "nbformat_minor": 5
}
